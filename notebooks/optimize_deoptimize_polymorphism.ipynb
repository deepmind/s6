{
 "cells": [
  {
   "cell_type": "markdown",
   "id": "6bfb2ea1-85c8-4b99-b313-e5346fdba898",
   "metadata": {},
   "source": [
    "# Optimize/Deoptimize Polymorphism\n",
    "\n",
    "In this notebook, we take a look at what happens to the function `is_even` below when invoking it many times, first with values of the same type and then with values of different type."
   ]
  },
  {
   "cell_type": "code",
   "execution_count": 1,
   "id": "b7cc1105-fcb3-434c-a603-e8340460292d",
   "metadata": {},
   "outputs": [],
   "source": [
    "import s6\n",
    "\n",
    "@s6.jit\n",
    "def is_even(x):\n",
    "    return x % 2 == 0"
   ]
  },
  {
   "cell_type": "markdown",
   "id": "c09726a5-84e3-48c9-8999-e24a3e971745",
   "metadata": {},
   "source": [
    "At this point, the function `is_even` has not been optimized by S6, as we haven't invoked it yet and there's no tracing information available. S6 needs to gather information about how it is used (e.g., what's the type of the parameter).\n",
    "\n",
    "The property `is_compiled` tells us it isn't compiled."
   ]
  },
  {
   "cell_type": "code",
   "execution_count": 2,
   "id": "0533d29c-0ba8-4060-9691-28b5d67fc228",
   "metadata": {},
   "outputs": [
    {
     "name": "stdout",
     "output_type": "stream",
     "text": [
      "False\n"
     ]
    }
   ],
   "source": [
    "print(s6.inspect(is_even).is_compiled)"
   ]
  },
  {
   "cell_type": "markdown",
   "id": "7dc607b6-f4f8-4277-b675-4b5697f29410",
   "metadata": {},
   "source": [
    "Although the function isn't compiled yet, we time it for comparison later on."
   ]
  },
  {
   "cell_type": "code",
   "execution_count": 3,
   "id": "1b6aee90-9b6d-45f9-a1a8-b36d06c4a17f",
   "metadata": {},
   "outputs": [
    {
     "name": "stdout",
     "output_type": "stream",
     "text": [
      "CPU times: user 347 µs, sys: 40 µs, total: 387 µs\n",
      "Wall time: 393 µs\n"
     ]
    },
    {
     "data": {
      "text/plain": [
       "True"
      ]
     },
     "execution_count": 3,
     "metadata": {},
     "output_type": "execute_result"
    }
   ],
   "source": [
    "%time is_even(10)"
   ]
  },
  {
   "cell_type": "markdown",
   "id": "e7c8cc73-c5b5-4197-b118-afa8c627ed13",
   "metadata": {},
   "source": [
    "Once this function is used many times (becomes _hot_), and S6 has collected enough information about it, it will compile it to strongjit. `is_compiled` will then return `True` and we will be able to print the resulting `strongjit`."
   ]
  },
  {
   "cell_type": "code",
   "execution_count": 4,
   "id": "29dc69ca-7f83-4433-9bea-9a40f968ff12",
   "metadata": {},
   "outputs": [
    {
     "name": "stdout",
     "output_type": "stream",
     "text": [
      "True\n",
      "type_feedback @4 monomorphic, int#9\n",
      "type_feedback @8 monomorphic, int#9\n",
      "\n",
      "function is_even {\n",
      "&0: [ %1 ]                                                  // entry point\n",
      "  bytecode_begin @0 fastlocals [%1]                         // LOAD_FAST 3839668643.py:5\n",
      "  %3 = frame_variable consts, $1\n",
      "  %4 = unbox long %1\n",
      "  %5 = overflowed? %4\n",
      "  deoptimize_if_safepoint %5, @4 stack [%1, %3] fastlocals [%1] increfs [%1, %3], \"Value was not unboxable\" // BINARY_MODULO 3839668643.py:5\n",
      "  %7 = constant $2\n",
      "  %8 = remainder i64 %4, %7\n",
      "  %9 = overflowed? %8\n",
      "  deoptimize_if_safepoint %9, @4 stack [%1, %3] fastlocals [%1] increfs [%1, %3], \"Value was not unboxable\" // BINARY_MODULO 3839668643.py:5\n",
      "  %11 = constant $0\n",
      "  %12 = cmp eq i64 %8, %11\n",
      "  %13 = box bool %12\n",
      "  advance_profile_counter $6\n",
      "  decref notnull %1 @10                                     // RETURN_VALUE 3839668643.py:5\n",
      "  return %13\n",
      "}\n"
     ]
    }
   ],
   "source": [
    "for i in range(20000):\n",
    "    is_even(i)\n",
    "    \n",
    "print(s6.inspect(is_even).is_compiled)\n",
    "print(s6.inspect(is_even).strongjit)"
   ]
  },
  {
   "cell_type": "markdown",
   "id": "746b56e1-3531-4e0c-8644-0589ffe00b8b",
   "metadata": {},
   "source": [
    "Given that we always passed an integer as argument, S6 optimizes `is_even` for this particular type.\n",
    "\n",
    "```\n",
    "type_feedback @4 monomorphic, int#9\n",
    "```\n",
    "If we now time it, we get a much faster call:"
   ]
  },
  {
   "cell_type": "code",
   "execution_count": 5,
   "id": "2531d3f8-a5dd-4665-a6fd-72d212f74052",
   "metadata": {},
   "outputs": [
    {
     "name": "stdout",
     "output_type": "stream",
     "text": [
      "CPU times: user 17 µs, sys: 1 µs, total: 18 µs\n",
      "Wall time: 21.9 µs\n"
     ]
    },
    {
     "data": {
      "text/plain": [
       "False"
      ]
     },
     "execution_count": 5,
     "metadata": {},
     "output_type": "execute_result"
    }
   ],
   "source": [
    "%time is_even(5)"
   ]
  },
  {
   "cell_type": "markdown",
   "id": "639180b0-1672-46eb-b351-fc7919468a9c",
   "metadata": {},
   "source": [
    "Although this function has been optimized for the integer case, it is still possible to invoke it with values of different types:"
   ]
  },
  {
   "cell_type": "code",
   "execution_count": 6,
   "id": "5912f6ec-e8a9-404d-89fb-eef830e2a1ed",
   "metadata": {},
   "outputs": [
    {
     "name": "stdout",
     "output_type": "stream",
     "text": [
      "CPU times: user 275 µs, sys: 21 µs, total: 296 µs\n",
      "Wall time: 300 µs\n"
     ]
    },
    {
     "data": {
      "text/plain": [
       "True"
      ]
     },
     "execution_count": 6,
     "metadata": {},
     "output_type": "execute_result"
    }
   ],
   "source": [
    "%time is_even(6.0)"
   ]
  },
  {
   "cell_type": "markdown",
   "id": "66f2e40e-36da-4ddd-964b-ac2822da0f20",
   "metadata": {},
   "source": [
    "It just runs much slower! Given that S6 considers the parameter of this function to be an integer (monomorphic!) and we call it with a float, S6 needs to _deoptimize_ it, i.e., going back to the interpreted version."
   ]
  },
  {
   "cell_type": "code",
   "execution_count": 7,
   "id": "3c38d065-cce6-4a46-9dc2-2445bada0743",
   "metadata": {},
   "outputs": [
    {
     "data": {
      "text/plain": [
       "False"
      ]
     },
     "execution_count": 7,
     "metadata": {},
     "output_type": "execute_result"
    }
   ],
   "source": [
    "s6.inspect(is_even).is_compiled"
   ]
  },
  {
   "cell_type": "markdown",
   "id": "49e9b02e-7213-413b-a26f-cd51e7f95e10",
   "metadata": {},
   "source": [
    "S6 can compile it again, though. And in this case, the resulting code is prepared for both integers and floats:"
   ]
  },
  {
   "cell_type": "code",
   "execution_count": 8,
   "id": "8bd75428-9f51-4bd4-a10d-7ffcc996038d",
   "metadata": {},
   "outputs": [
    {
     "name": "stdout",
     "output_type": "stream",
     "text": [
      "type_feedback @4 polymorphic, either int#9 or float#155\n",
      "type_feedback @8 polymorphic, either int#9 or float#155\n",
      "\n",
      "function is_even {\n",
      "&0: [ %1 ]                                                  // entry point\n",
      "  bytecode_begin @0 fastlocals [%1]                         // LOAD_FAST 3839668643.py:5\n",
      "  %3 = frame_variable consts, $1\n",
      "  %4 = call_native PyNumber_Remainder (%1, %3) @4           // BINARY_MODULO 3839668643.py:5\n",
      "  %5 = constant $0\n",
      "  %6 = cmp eq i64 %4, %5\n",
      "  deoptimize_if %6, &22, &8, materializing values [%1]\n",
      "\n",
      "&8:                                                         // preds: &0\n",
      "  bytecode_begin @6 stack [%4] fastlocals [%1]              // LOAD_CONST 3839668643.py:5\n",
      "  %10 = frame_variable consts, $2\n",
      "  %11 = constant $2\n",
      "  %12 = call_native PyObject_RichCompare (%4, %10, %11) @8  // COMPARE_OP 3839668643.py:5\n",
      "  decref notnull %4 @8                                      // COMPARE_OP 3839668643.py:5\n",
      "  %14 = constant $0\n",
      "  %15 = cmp eq i64 %12, %14\n",
      "  deoptimize_if %15, &25, &17, materializing values [%1]\n",
      "\n",
      "&17:                                                        // preds: &8\n",
      "  bytecode_begin @10 stack [%12] fastlocals [%1]            // RETURN_VALUE 3839668643.py:5\n",
      "  advance_profile_counter $6\n",
      "  decref notnull %1 @10                                     // RETURN_VALUE 3839668643.py:5\n",
      "  return %12\n",
      "\n",
      "&22: deoptimized                                            // preds: &0\n",
      "  decref notnull %1 @4                                      // BINARY_MODULO 3839668643.py:5\n",
      "  except @4                                                 // BINARY_MODULO 3839668643.py:5\n",
      "\n",
      "&25: deoptimized                                            // preds: &8\n",
      "  decref notnull %1 @8                                      // COMPARE_OP 3839668643.py:5\n",
      "  except @8                                                 // COMPARE_OP 3839668643.py:5\n",
      "}\n"
     ]
    }
   ],
   "source": [
    "s6.inspect(is_even).force_compile()\n",
    "\n",
    "assert s6.inspect(is_even).is_compiled\n",
    "print(s6.inspect(is_even).strongjit)\n"
   ]
  },
  {
   "cell_type": "markdown",
   "id": "5e6c5c3c-48ea-45cb-ac60-7ada9091ce6f",
   "metadata": {},
   "source": [
    "The type feedbacks are now polymorphic (`type_feedback @4 polymorphic, either int#9 or float#155`) instead of monomorphic, and the generated code is also more complex than in the monomorphic version. S6 no longer tries to simply `unbox` the argument, or use `remainder i64` and `cmp eq i64` instructions. Instead, it calls the `PyNumber_Remainder` and `PyObject_RichCompare` functions.\n",
    "\n",
    "Even though the code relies on these native calls, if we now time both function calls, we still get much better timings: "
   ]
  },
  {
   "cell_type": "code",
   "execution_count": 9,
   "id": "6d70f3df-fe84-4a40-8246-4111d2f73825",
   "metadata": {},
   "outputs": [
    {
     "name": "stdout",
     "output_type": "stream",
     "text": [
      "CPU times: user 34 µs, sys: 2 µs, total: 36 µs\n",
      "Wall time: 39.6 µs\n",
      "CPU times: user 7 µs, sys: 1 µs, total: 8 µs\n",
      "Wall time: 9.78 µs\n"
     ]
    },
    {
     "data": {
      "text/plain": [
       "True"
      ]
     },
     "execution_count": 9,
     "metadata": {},
     "output_type": "execute_result"
    }
   ],
   "source": [
    "%time is_even(6.0) \n",
    "%time is_even(6) "
   ]
  }
 ],
 "metadata": {
  "kernelspec": {
   "display_name": "Python 3 (ipykernel)",
   "language": "python",
   "name": "python3"
  },
  "language_info": {
   "codemirror_mode": {
    "name": "ipython",
    "version": 3
   },
   "file_extension": ".py",
   "mimetype": "text/x-python",
   "name": "python",
   "nbconvert_exporter": "python",
   "pygments_lexer": "ipython3",
   "version": "3.7.13+"
  }
 },
 "nbformat": 4,
 "nbformat_minor": 5
}
