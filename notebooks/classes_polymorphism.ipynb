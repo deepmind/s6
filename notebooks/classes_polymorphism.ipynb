{
 "cells": [
  {
   "cell_type": "markdown",
   "id": "8bcfd7bb-50e5-49a6-a265-2669b1d6f921",
   "metadata": {},
   "source": [
    "# Polymorphism with classes\n",
    "\n",
    "Polymorphism is supported with classes. In the code below, we have two classes, `C` and `D`, that are structurally monomorphic, but nominally polymorphic, and a function `f` which takes as input either an instance of `C` or `D`."
   ]
  },
  {
   "cell_type": "code",
   "execution_count": 1,
   "id": "062c4e06-9c86-4f1a-a1bf-ec6ab9cde9fd",
   "metadata": {},
   "outputs": [
    {
     "data": {
      "text/plain": [
       "2"
      ]
     },
     "execution_count": 1,
     "metadata": {},
     "output_type": "execute_result"
    }
   ],
   "source": [
    "from typing import Union\n",
    "import s6\n",
    "\n",
    "class C:\n",
    "  def __init__(self):\n",
    "    self.x = 2\n",
    "\n",
    "class D:\n",
    "  def __init__(self):\n",
    "    self.x = 3  \n",
    "\n",
    "@s6.jit\n",
    "def f(a : Union[C or D]):\n",
    "  return a.x\n",
    "\n",
    "f(D())\n",
    "f(C())"
   ]
  },
  {
   "cell_type": "markdown",
   "id": "f11299d3-e90b-46d2-b455-ab2e47a30737",
   "metadata": {},
   "source": [
    "When S6 compiles `f`, it will consider the polymorphic case, as we invoked it with instances of both classes:"
   ]
  },
  {
   "cell_type": "code",
   "execution_count": 2,
   "id": "3292be2d-3c4e-43e6-be1b-0ab7c58e6352",
   "metadata": {},
   "outputs": [
    {
     "name": "stdout",
     "output_type": "stream",
     "text": [
      "type_feedback @2 polymorphic, either D+x#5925 or C+x#5928\n",
      "\n",
      "function f {\n",
      "&0: [ %1 ]                                                  // entry point\n",
      "  bytecode_begin @0 fastlocals [%1]                         // LOAD_FAST 2275608802.py:14\n",
      "  %3 = get_object_dict %1 dictoffset $16 type $0\n",
      "  deoptimize_if_safepoint not %3, @2 stack [%1] fastlocals [%1] increfs [%1], \"Specialized instance attribute load received an object without __dict__\" // LOAD_ATTR 2275608802.py:14\n",
      "  %5 = get_instance_class_id %3\n",
      "  %6 = constant $5925\n",
      "  %7 = cmp eq i64 %5, %6\n",
      "  br %7, &9, &14\n",
      "\n",
      "&9:                                                         // preds: &0\n",
      "  %10 = deoptimized_asynchronously?\n",
      "  deoptimize_if_safepoint %10, @2 stack [%1] fastlocals [%1] increfs [%1], \"Assumptions were made about class behavior that were invalidated asynchronously\" // LOAD_ATTR 2275608802.py:14\n",
      "  %12 = load_from_dict %3, $0, split\n",
      "  jmp &22 [ %12 ]\n",
      "\n",
      "&14:                                                        // preds: &0\n",
      "  %15 = constant $5928\n",
      "  %16 = cmp eq i64 %5, %15\n",
      "  deoptimize_if_safepoint not %16, @2 stack [%1] fastlocals [%1] increfs [%1], \"Specialized instance attribute load (of attribute x) was incorrectly polymorphic\" // LOAD_ATTR 2275608802.py:14\n",
      "  %18 = deoptimized_asynchronously?\n",
      "  deoptimize_if_safepoint %18, @2 stack [%1] fastlocals [%1] increfs [%1], \"Assumptions were made about class behavior that were invalidated asynchronously\" // LOAD_ATTR 2275608802.py:14\n",
      "  %20 = load_from_dict %3, $0, split\n",
      "  jmp &22 [ %20 ]\n",
      "\n",
      "&22: [ %23 ]                                                // preds: &14, &9\n",
      "  incref notnull %23\n",
      "  bytecode_begin @4 stack [%23] fastlocals [%1]             // RETURN_VALUE 2275608802.py:14\n",
      "  advance_profile_counter $3\n",
      "  decref notnull %1 @4                                      // RETURN_VALUE 2275608802.py:14\n",
      "  return %23\n",
      "}\n"
     ]
    }
   ],
   "source": [
    "s6.inspect(f).force_compile()\n",
    "print(s6.inspect(f).strongjit)"
   ]
  },
  {
   "cell_type": "markdown",
   "id": "4cc63285-8216-45ef-99b2-faa916dc832a",
   "metadata": {},
   "source": [
    "### What do we get when `f` is compiled\n",
    "\n",
    "We start with the `type_feedback` information at the top of the strongjit, and go over a few strongjit instructions.\n",
    "\n",
    "```\n",
    "type_feedback @2 polymorphic, either D+x#5925 or C+x#5928\n",
    "```\n",
    "Contains some type information about a variable (in parameter of the function, in this case). In particular,\n",
    "* @2 refers to a bytecode offset within PyCodeObject::co_instructions.\n",
    "* Class names look like `TYPE+attrs#NUMBER`, where `TYPE` is the type name, `attrs` is the instance attributes added on top of the type, and `NUMBER` is the unique identifier of this class in S6. For example, `D+x#5925` is `D()`, with `x` added as attribute (`class D: def __init__(self): self.x = 2`).\n",
    "\n",
    "```\n",
    "bytecode_begin @0 fastlocals [%1]    // LOAD_FAST 2275608802.py:14\n",
    "```\n",
    "marks the start of a bytecode boundary. This is for debugging and also for interpreting purposes -- if we ever deoptimize outside of a bytecode boundary, we can interpret the strongjit IR until we get to a boundary, and at that point it is safe to bail out to the interpreter.\n",
    "* `@0`: the bytecode offset (`f_lasti`) to bail out to the interpreter with\n",
    "* `fastlocals [%1]`: Defines the contents of `f_fastlocals[]`, which is the current local variable state (There’s also `stack` which defines the content of the value stack).\n",
    "\n",
    "```\n",
    "%3 = get_object_dict %1 dictoffset $16 type $0\n",
    "```\n",
    "Obtains the `__dict__` from `%1`. The `dictoffset` and type arguments give hints about where we expect the dict to be within `%1`. This dict extraction is being used for a type check, so if it is not there, we return `nullptr`.\n",
    "\n",
    "```\n",
    "deoptimize_if_safepoint not %3, @2 stack [%1] fastlocals [%1] increfs [%1], \"Specialized instance attribute load received an object without __dict__\" // LOAD_ATTR 2275608802.py:14\n",
    "```\n",
    "If `%3 == nullptr`, S6 bails out to the interpreter. The rest of the line gives all the information needed to bail out successfully, just like bytecode_begin.\n",
    "\n",
    "```\n",
    "%5 = get_instance_class_id %3\n",
    "```\n",
    "Obtains the class ID of an object, from its `__dict__`. `%3` is the `__dict__` (as obtained by `get_object_dict`).\n",
    "\n",
    "```\n",
    "%10 = deoptimized_asynchronously?\n",
    "```\n",
    "Checks the code object's _did something outrageous happen?_ flag, i.e., if some assumption has been broken. For example, if a type modification happened (`class X: pass; X.x = 42`) and we relied on that type for some optimization, then we invalidate all generated code that relied on it. We will set a _deoptimize now_ flag on all code objects affected, and this instruction checks it before we do something that is no longer correct.\n",
    "\n",
    "```\n",
    "%12 = load_from_dict %3, $0, split\n",
    "```\n",
    "Is a _fast load_ of an object's field. Given a `__dict__` in `%3`, load the zero-th item (`$0`) from it. The dict is known to be a split dict (`ma_keys != ma_values`) so all this needs to do is load `((PyDictObject*)%3).ma_values[0]`.\n",
    "\n",
    "```\n",
    "incref notnull %23\n",
    "```\n",
    "Increments the reference count of `%23`, which is known not to be null.\n",
    "\n",
    "```\n",
    "advance_profile_counter $3\n",
    "```\n",
    "The Oracle maintains a profile counter which is initialized to some large value and counts down over time. When it hits zero or goes below, we trigger a _maybe optimize this code?_ event. The instruction `advance_profile_counter` modifies this counter by however many bytecode instructions’ worth of jitted code we’ve just executed.\n",
    "\n",
    "```\n",
    "%4 = unbox long %1\n",
    "```\n",
    "Attempts to unbox `PyObject %1` as an integer. If `%1` isn’t of type `PyLong`, or is outside the range of a 64-bit signed integer, it fails (setting the overflowed flag).\n",
    "\n",
    "```\n",
    "%5 = overflowed? %4\n",
    "```\n",
    "Returns true if the previous instruction overflowed or failed (applies to any integer operation or unbox operation)\n",
    "\n",
    "```\n",
    "%11 = box long %8\n",
    "```\n",
    "Boxes up the integer value in `%8` into a new `PyLong`.\n"
   ]
  }
 ],
 "metadata": {
  "kernelspec": {
   "display_name": "Python 3 (ipykernel)",
   "language": "python",
   "name": "python3"
  },
  "language_info": {
   "codemirror_mode": {
    "name": "ipython",
    "version": 3
   },
   "file_extension": ".py",
   "mimetype": "text/x-python",
   "name": "python",
   "nbconvert_exporter": "python",
   "pygments_lexer": "ipython3",
   "version": "3.7.13+"
  }
 },
 "nbformat": 4,
 "nbformat_minor": 5
}
