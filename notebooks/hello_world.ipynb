{
 "cells": [
  {
   "cell_type": "markdown",
   "id": "56d77804-0050-4075-b0df-ba74a62f7f3a",
   "metadata": {},
   "source": [
    "# S6's Hello, World!\n",
    "\n",
    "A simple illustration of how S6 decorators can be used to produce a JIT-compiled function, using a very simple function."
   ]
  },
  {
   "cell_type": "markdown",
   "id": "32b5271b-3009-417e-aa10-8a751dc3b86a",
   "metadata": {},
   "source": [
    "Decorate the function so that it can be JIT-compiled."
   ]
  },
  {
   "cell_type": "code",
   "execution_count": 1,
   "id": "277f7ce4-2842-45f4-81ff-135c848734b5",
   "metadata": {},
   "outputs": [],
   "source": [
    "import s6\n",
    "\n",
    "@s6.jit\n",
    "def hello(x):\n",
    "  return f\"Hello, {x}\""
   ]
  },
  {
   "cell_type": "markdown",
   "id": "7f6bcae3-63e7-4c0b-845f-4db5f3d64231",
   "metadata": {},
   "source": [
    "Time the function before and after optimization. To make sure the function is optimized/compiled, invoke it many times."
   ]
  },
  {
   "cell_type": "code",
   "execution_count": 2,
   "id": "e493da81-348a-4935-aec1-14f9dd23fa8d",
   "metadata": {},
   "outputs": [
    {
     "name": "stdout",
     "output_type": "stream",
     "text": [
      "CPU times: user 320 µs, sys: 28 µs, total: 348 µs\n",
      "Wall time: 354 µs\n"
     ]
    },
    {
     "data": {
      "text/plain": [
       "'Hello, World'"
      ]
     },
     "execution_count": 2,
     "metadata": {},
     "output_type": "execute_result"
    }
   ],
   "source": [
    "%time hello(\"World\")"
   ]
  },
  {
   "cell_type": "code",
   "execution_count": 3,
   "id": "53c5fad0-8c55-44ef-9c00-c598bf9e7631",
   "metadata": {},
   "outputs": [
    {
     "name": "stdout",
     "output_type": "stream",
     "text": [
      "CPU times: user 10 µs, sys: 1 µs, total: 11 µs\n",
      "Wall time: 15.3 µs\n"
     ]
    },
    {
     "data": {
      "text/plain": [
       "'Hello, World!'"
      ]
     },
     "execution_count": 3,
     "metadata": {},
     "output_type": "execute_result"
    }
   ],
   "source": [
    "for i in range(200000):\n",
    "    hello(str(i))\n",
    "%time hello(\"World!\")"
   ]
  },
  {
   "cell_type": "markdown",
   "id": "7fc56508-0bfa-49fc-b808-b59cd41b0e30",
   "metadata": {},
   "source": [
    "As you can see the compiled function runs much faster.\n",
    "\n",
    "Now we can look at the strongjit from the compiled function, which is S6's own IR that is created from the Python bytecode version of the function."
   ]
  },
  {
   "cell_type": "code",
   "execution_count": 4,
   "id": "99155922-72ea-4678-8f84-869cfc309e3a",
   "metadata": {},
   "outputs": [
    {
     "name": "stdout",
     "output_type": "stream",
     "text": [
      "function hello {\n",
      "&0: [ %1 ]                                                  // entry point\n",
      "  bytecode_begin @0 fastlocals [%1]                         // LOAD_CONST 1174978594.py:5\n",
      "  %3 = frame_variable consts, $1\n",
      "  incref notnull %3\n",
      "  deoptimize_if_safepoint not %1, @2 stack [%3] fastlocals [%1], \"Fastlocal load was nullptr (unbound local)\" // LOAD_FAST 1174978594.py:5\n",
      "  incref notnull %1\n",
      "  %7 = constant $0\n",
      "  %8 = call_native PyObject_Format (%1, %7) @4              // FORMAT_VALUE 1174978594.py:5\n",
      "  decref notnull %1 @4                                      // FORMAT_VALUE 1174978594.py:5\n",
      "  %10 = constant $0\n",
      "  %11 = cmp eq i64 %8, %10\n",
      "  deoptimize_if %11, &34, &13, materializing values [%1, %3]\n",
      "\n",
      "&13:                                                        // preds: &0\n",
      "  bytecode_begin @6 stack [%3, %8] fastlocals [%1]          // BUILD_STRING 1174978594.py:5\n",
      "  %15 = constant $0\n",
      "  %16 = call_native PyUnicode_New (%15, %15) @6             // BUILD_STRING 1174978594.py:5\n",
      "  %17 = constant $0\n",
      "  %18 = cmp eq i64 %16, %17\n",
      "  deoptimize_if %18, &38, &20, materializing values [%1, %3, %8]\n",
      "\n",
      "&20:                                                        // preds: &13\n",
      "  %21 = constant $139900687915824\n",
      "  %22 = call_vectorcall %21 self %16 (%3, %8) @6            // BUILD_STRING 1174978594.py:5\n",
      "  decref notnull %16 @6                                     // BUILD_STRING 1174978594.py:5\n",
      "  decref notnull %3 @6                                      // BUILD_STRING 1174978594.py:5\n",
      "  decref notnull %8 @6                                      // BUILD_STRING 1174978594.py:5\n",
      "  %26 = constant $0\n",
      "  %27 = cmp eq i64 %22, %26\n",
      "  deoptimize_if %27, &43, &29, materializing values [%1]\n",
      "\n",
      "&29:                                                        // preds: &20\n",
      "  bytecode_begin @8 stack [%22] fastlocals [%1]             // RETURN_VALUE 1174978594.py:5\n",
      "  advance_profile_counter $5\n",
      "  decref null? %1 @8                                        // RETURN_VALUE 1174978594.py:5\n",
      "  return %22\n",
      "\n",
      "&34: deoptimized                                            // preds: &0\n",
      "  decref null? %3 @4                                        // FORMAT_VALUE 1174978594.py:5\n",
      "  decref null? %1 @4                                        // FORMAT_VALUE 1174978594.py:5\n",
      "  except @4                                                 // FORMAT_VALUE 1174978594.py:5\n",
      "\n",
      "&38: deoptimized                                            // preds: &13\n",
      "  decref null? %8 @6                                        // BUILD_STRING 1174978594.py:5\n",
      "  decref null? %3 @6                                        // BUILD_STRING 1174978594.py:5\n",
      "  decref null? %1 @6                                        // BUILD_STRING 1174978594.py:5\n",
      "  except @6                                                 // BUILD_STRING 1174978594.py:5\n",
      "\n",
      "&43: deoptimized                                            // preds: &20\n",
      "  decref null? %1 @6                                        // BUILD_STRING 1174978594.py:5\n",
      "  except @6                                                 // BUILD_STRING 1174978594.py:5\n",
      "}\n"
     ]
    }
   ],
   "source": [
    "print(s6.inspect(hello).strongjit)"
   ]
  },
  {
   "cell_type": "markdown",
   "id": "241e3cee-06f6-4c43-9e59-373db55528a5",
   "metadata": {},
   "source": [
    "Finally we can look at the x86 assembly that is generated from the strongjit IR:"
   ]
  },
  {
   "cell_type": "code",
   "execution_count": 5,
   "id": "6c0caf05-1220-4b43-a0e6-5bf35db1a1c1",
   "metadata": {},
   "outputs": [
    {
     "name": "stdout",
     "output_type": "stream",
     "text": [
      "0x7f3ceb7ff000: push rbp\n",
      "0x7f3ceb7ff001: mov rbp, rsp\n",
      "0x7f3ceb7ff004: sub rsp, 0x70\n",
      "0x7f3ceb7ff008: mov [rbp-0x60], r12\n",
      "0x7f3ceb7ff00c: mov [rbp-0x58], rbx\n",
      "0x7f3ceb7ff010: mov r12, rsi\n",
      "0x7f3ceb7ff013: mov rbx, rdi\n",
      "0x7f3ceb7ff016: lea rsi, [rbp-0x28]\n",
      "0x7f3ceb7ff01a: mov rdx, 0x7f3cf801ce30\n",
      "0x7f3ceb7ff024: call 0x7f3d243374b0\n",
      "0x7f3ceb7ff02a: mov rsi, [rbx+0x168]\n",
      "0x7f3ceb7ff031: mov qword [rbx+0x168], 0x0\n",
      "0x7f3ceb7ff03c: jmp 0x7f3ceb7ff0f6\n",
      "0x7f3ceb7ff041: nop\n",
      "0x7f3ceb7ff042: nop\n",
      "0x7f3ceb7ff043: nop\n",
      "0x7f3ceb7ff044: nop\n",
      "0x7f3ceb7ff045: nop\n",
      "0x7f3ceb7ff046: nop\n",
      "0x7f3ceb7ff047: nop\n",
      "0x7f3ceb7ff048: nop\n",
      "0x7f3ceb7ff049: nop\n",
      "0x7f3ceb7ff04a: nop\n",
      "0x7f3ceb7ff04b: nop\n",
      "0x7f3ceb7ff04c: nop\n",
      "0x7f3ceb7ff04d: nop\n",
      "0x7f3ceb7ff04e: nop\n",
      "0x7f3ceb7ff04f: nop\n",
      "0x7f3ceb7ff050: push rbp\n",
      "0x7f3ceb7ff051: mov rbp, rsp\n",
      "0x7f3ceb7ff054: sub rsp, 0x70\n",
      "0x7f3ceb7ff058: mov [rbp-0x60], r12\n",
      "0x7f3ceb7ff05c: mov [rbp-0x58], rbx\n",
      "0x7f3ceb7ff060: mov r11, 0x7f3d245783c0\n",
      "0x7f3ceb7ff06a: mov r10, 0x7f3d245783c0\n",
      "0x7f3ceb7ff074: cmp [r10], r11\n",
      "0x7f3ceb7ff077: jnz 0x7f3ceb7ff08b\n",
      "0x7f3ceb7ff07d: call 0x7f3d24336dd0\n",
      "0x7f3ceb7ff083: mov rax, r11\n",
      "0x7f3ceb7ff086: jmp 0x7f3ceb7ff095\n",
      "0x7f3ceb7ff08b: mov rax, [r10]\n",
      "0x7f3ceb7ff08e: add qword [r10], 0x570\n",
      "0x7f3ceb7ff095: mov r10, [rbx+0x28]\n",
      "0x7f3ceb7ff099: mov [rax+0x28], r10\n",
      "0x7f3ceb7ff09d: mov [rax+0x18], rbx\n",
      "0x7f3ceb7ff0a1: mov rbx, rax\n",
      "0x7f3ceb7ff0a4: mov [rbp-0x20], rbx\n",
      "0x7f3ceb7ff0a8: mov rax, [rbp]\n",
      "0x7f3ceb7ff0ac: mov r11, [rax-0x18]\n",
      "0x7f3ceb7ff0b0: mov [rbp-0x18], r11\n",
      "0x7f3ceb7ff0b4: mov [r11+0x18], rbx\n",
      "0x7f3ceb7ff0b8: mov r11, [rdi+0x18]\n",
      "0x7f3ceb7ff0bc: mov [rbx+0x30], r11\n",
      "0x7f3ceb7ff0c0: mov qword [rbx+0x38], 0x0\n",
      "0x7f3ceb7ff0c8: mov r11, 0x7f3d2462d390\n",
      "0x7f3ceb7ff0d2: mov [rbx+0x20], r11\n",
      "0x7f3ceb7ff0d6: mov r11, 0x517ea55e7557a7ef\n",
      "0x7f3ceb7ff0e0: mov [rbp-0x28], r11\n",
      "0x7f3ceb7ff0e4: mov r11, 0x7f3cf801ce30\n",
      "0x7f3ceb7ff0ee: mov [rbp-0x10], r11\n",
      "0x7f3ceb7ff0f2: mov byte [rbp-0x8], 0x1\n",
      "0x7f3ceb7ff0f6: mov r11, [rbp-0x18]\n",
      "0x7f3ceb7ff0fa: inc qword [r11+0x20]\n",
      "// %3 = frame_variable consts, $1\n",
      "0x7f3ceb7ff0fe: mov rax, 0x7f3d24639670\n",
      "// incref notnull %3\n",
      "0x7f3ceb7ff108: inc qword [rax]\n",
      "// deoptimize_if_safepoint not %1, @2 stack [%3] fastlocals [%1], \"Fastlocal load was nullptr (unbound local)\"\n",
      "0x7f3ceb7ff10b: cmp rsi, 0x0\n",
      "0x7f3ceb7ff10f: jz 0x7f3ceb7ff2da\n",
      "// incref notnull %1\n",
      "0x7f3ceb7ff115: inc qword [rsi]\n",
      "// %8 = call_native PyObject_Format (%1, %7) @4\n",
      "0x7f3ceb7ff118: mov rdi, rsi\n",
      "0x7f3ceb7ff11b: mov rsi, 0x0\n",
      "0x7f3ceb7ff122: mov [rbp-0x50], rax\n",
      "0x7f3ceb7ff126: mov [rbp-0x48], rdi\n",
      "0x7f3ceb7ff12a: mov dword [rbx+0x68], 0x4\n",
      "0x7f3ceb7ff131: call 0x7f3d2ac62040\n",
      "// decref notnull %1 @4\n",
      "0x7f3ceb7ff137: mov rdi, [rbp-0x48]\n",
      "0x7f3ceb7ff13b: mov [rbp-0x40], rax\n",
      "0x7f3ceb7ff13f: dec qword [rdi]\n",
      "0x7f3ceb7ff142: jnz 0x7f3ceb7ff155\n",
      "0x7f3ceb7ff148: mov dword [rbx+0x68], 0x4\n",
      "0x7f3ceb7ff14f: call 0x7f3d24336170\n",
      "// %11 = cmp eq i64 %8, %10\n",
      "0x7f3ceb7ff155: mov rax, [rbp-0x40]\n",
      "// deoptimize_if %11, &34, &13, materializing values [%1, %3]\n",
      "0x7f3ceb7ff159: cmp rax, 0x0\n",
      "0x7f3ceb7ff15d: jz 0x7f3ceb7ff2e5\n",
      "// %16 = call_native PyUnicode_New (%15, %15) @6\n",
      "0x7f3ceb7ff163: mov rdi, 0x0\n",
      "0x7f3ceb7ff16a: mov rsi, rdi\n",
      "0x7f3ceb7ff16d: mov dword [rbx+0x68], 0x6\n",
      "0x7f3ceb7ff174: call 0x7f3d2acd5ac0\n",
      "// deoptimize_if %18, &38, &20, materializing values [%1, %3, %8]\n",
      "0x7f3ceb7ff17a: cmp rax, 0x0\n",
      "0x7f3ceb7ff17e: jz 0x7f3ceb7ff2f0\n",
      "// %21 = constant $139900687915824\n",
      "0x7f3ceb7ff184: mov rcx, 0x7f3d2ace9b30\n",
      "// %22 = call_vectorcall %21 self %16 (%3, %8) @6\n",
      "0x7f3ceb7ff18e: mov [rbp-0x38], rax\n",
      "0x7f3ceb7ff192: mov rax, rcx\n",
      "0x7f3ceb7ff195: mov rdi, [rbp-0x38]\n",
      "0x7f3ceb7ff199: mov r11, [rbp-0x50]\n",
      "0x7f3ceb7ff19d: mov [rsp], r11\n",
      "0x7f3ceb7ff1a1: mov r11, [rbp-0x40]\n",
      "0x7f3ceb7ff1a5: mov [rsp+0x8], r11\n",
      "0x7f3ceb7ff1aa: mov rdx, 0x2\n",
      "0x7f3ceb7ff1b1: mov rsi, rsp\n",
      "0x7f3ceb7ff1b4: xor rcx, rcx\n",
      "0x7f3ceb7ff1b7: call rax\n",
      "// decref notnull %16 @6\n",
      "0x7f3ceb7ff1b9: mov rdi, [rbp-0x38]\n",
      "0x7f3ceb7ff1bd: mov [rbp-0x30], rax\n",
      "0x7f3ceb7ff1c1: dec qword [rdi]\n",
      "0x7f3ceb7ff1c4: jnz 0x7f3ceb7ff1d7\n",
      "0x7f3ceb7ff1ca: mov dword [rbx+0x68], 0x6\n",
      "0x7f3ceb7ff1d1: call 0x7f3d24336170\n",
      "// decref notnull %3 @6\n",
      "0x7f3ceb7ff1d7: mov rdi, [rbp-0x50]\n",
      "0x7f3ceb7ff1db: dec qword [rdi]\n",
      "0x7f3ceb7ff1de: jnz 0x7f3ceb7ff1f1\n",
      "0x7f3ceb7ff1e4: mov dword [rbx+0x68], 0x6\n",
      "0x7f3ceb7ff1eb: call 0x7f3d24336170\n",
      "// decref notnull %8 @6\n",
      "0x7f3ceb7ff1f1: mov rdi, [rbp-0x40]\n",
      "0x7f3ceb7ff1f5: dec qword [rdi]\n",
      "0x7f3ceb7ff1f8: jnz 0x7f3ceb7ff20b\n",
      "0x7f3ceb7ff1fe: mov dword [rbx+0x68], 0x6\n",
      "0x7f3ceb7ff205: call 0x7f3d24336170\n",
      "// %27 = cmp eq i64 %22, %26\n",
      "0x7f3ceb7ff20b: mov rax, [rbp-0x30]\n",
      "// deoptimize_if %27, &43, &29, materializing values [%1]\n",
      "0x7f3ceb7ff20f: cmp rax, 0x0\n",
      "0x7f3ceb7ff213: jz 0x7f3ceb7ff2fb\n",
      "// advance_profile_counter $5\n",
      "0x7f3ceb7ff219: sub qword [r12], 0x5\n",
      "0x7f3ceb7ff21e: jg 0x7f3ceb7ff22a\n",
      "0x7f3ceb7ff224: call 0x7f3d24336da0\n",
      "// decref null? %1 @8\n",
      "0x7f3ceb7ff22a: mov rdi, [rbp-0x48]\n",
      "0x7f3ceb7ff22e: test rdi, rdi\n",
      "0x7f3ceb7ff231: jz 0x7f3ceb7ff24d\n",
      "0x7f3ceb7ff237: dec qword [rdi]\n",
      "0x7f3ceb7ff23a: jnz 0x7f3ceb7ff24d\n",
      "0x7f3ceb7ff240: mov dword [rbx+0x68], 0x8\n",
      "0x7f3ceb7ff247: call 0x7f3d24336170\n",
      "// return %22\n",
      "0x7f3ceb7ff24d: mov rax, [rbp-0x30]\n",
      "0x7f3ceb7ff251: mov rax, rax\n",
      "0x7f3ceb7ff254: mov r11, [rbp-0x18]\n",
      "0x7f3ceb7ff258: dec qword [r11+0x20]\n",
      "0x7f3ceb7ff25c: mov r11, [rbp-0x18]\n",
      "0x7f3ceb7ff260: mov rcx, [rbx+0x18]\n",
      "0x7f3ceb7ff264: mov [r11+0x18], rcx\n",
      "0x7f3ceb7ff268: cmp byte [rbp-0x8], 0x1\n",
      "0x7f3ceb7ff26c: jnz 0x7f3ceb7ff2c5\n",
      "0x7f3ceb7ff272: mov rcx, 0x7f3d245783c0\n",
      "0x7f3ceb7ff27c: mov r11, [rcx]\n",
      "0x7f3ceb7ff27f: sub r11, 0x570\n",
      "0x7f3ceb7ff286: cmp rbx, r11\n",
      "0x7f3ceb7ff289: jnz 0x7f3ceb7ff2b5\n",
      "0x7f3ceb7ff28f: cmp qword [rbx], 0x1\n",
      "0x7f3ceb7ff293: jnz 0x7f3ceb7ff2b5\n",
      "0x7f3ceb7ff299: mov r11, 0x7f3d245783c8\n",
      "0x7f3ceb7ff2a3: cmp [rbx+0x8], r11\n",
      "0x7f3ceb7ff2a7: jnz 0x7f3ceb7ff2b5\n",
      "0x7f3ceb7ff2ad: mov [rcx], rbx\n",
      "0x7f3ceb7ff2b0: jmp 0x7f3ceb7ff2c5\n",
      "0x7f3ceb7ff2b5: mov r12, rax\n",
      "0x7f3ceb7ff2b8: lea rdi, [rbp-0x28]\n",
      "0x7f3ceb7ff2bc: call 0x7f3d24336a90\n",
      "0x7f3ceb7ff2c2: mov rax, r12\n",
      "0x7f3ceb7ff2c5: mov qword [rbp-0x28], 0x0\n",
      "0x7f3ceb7ff2cd: mov r12, [rbp-0x60]\n",
      "0x7f3ceb7ff2d1: mov rbx, [rbp-0x58]\n",
      "0x7f3ceb7ff2d5: mov rsp, rbp\n",
      "0x7f3ceb7ff2d8: pop rbp\n",
      "0x7f3ceb7ff2d9: ret\n",
      "// deopt for: deoptimize_if_safepoint not %1, @2 stack [%3] fastlocals [%1], \"Fastlocal load was nullptr (unbound local)\"\n",
      "0x7f3ceb7ff2da: call 0x7f3d243287a0\n",
      "0x7f3ceb7ff2e0: jmp 0x7f3ceb7ff254\n",
      "// deopt for: deoptimize_if %11, &34, &13, materializing values [%1, %3]\n",
      "0x7f3ceb7ff2e5: call 0x7f3d243287a0\n",
      "0x7f3ceb7ff2eb: jmp 0x7f3ceb7ff254\n",
      "// deopt for: deoptimize_if %18, &38, &20, materializing values [%1, %3, %8]\n",
      "0x7f3ceb7ff2f0: call 0x7f3d243287a0\n",
      "0x7f3ceb7ff2f6: jmp 0x7f3ceb7ff254\n",
      "// deopt for: deoptimize_if %27, &43, &29, materializing values [%1]\n",
      "0x7f3ceb7ff2fb: call 0x7f3d243287a0\n",
      "0x7f3ceb7ff301: jmp 0x7f3ceb7ff254\n",
      "// <data>\n",
      "0x7f3ceb7ff306: 00000000\n",
      "0x7f3ceb7ff30e: <end>\n",
      "\n"
     ]
    }
   ],
   "source": [
    "print(s6.inspect(hello).x86asm)"
   ]
  }
 ],
 "metadata": {
  "kernelspec": {
   "display_name": "Python 3 (ipykernel)",
   "language": "python",
   "name": "python3"
  },
  "language_info": {
   "codemirror_mode": {
    "name": "ipython",
    "version": 3
   },
   "file_extension": ".py",
   "mimetype": "text/x-python",
   "name": "python",
   "nbconvert_exporter": "python",
   "pygments_lexer": "ipython3",
   "version": "3.7.13+"
  }
 },
 "nbformat": 4,
 "nbformat_minor": 5
}
