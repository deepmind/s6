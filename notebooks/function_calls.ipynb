{
 "cells": [
  {
   "cell_type": "markdown",
   "id": "978ba1a7-8b6b-4309-93b4-bd77fe70438f",
   "metadata": {
    "id": "978ba1a7-8b6b-4309-93b4-bd77fe70438f"
   },
   "source": [
    "# Function calls\n",
    "\n",
    "We now look into what happens when a function annotated with `@s6.jit` invokes another function. "
   ]
  },
  {
   "cell_type": "code",
   "execution_count": 1,
   "id": "ba7992f7-0dd8-40b9-bab4-7834a659580c",
   "metadata": {
    "id": "ba7992f7-0dd8-40b9-bab4-7834a659580c",
    "outputId": "5f06c7bb-99dc-4fff-c40a-5d84280d78b7"
   },
   "outputs": [
    {
     "name": "stdout",
     "output_type": "stream",
     "text": [
      "50000 False True\n"
     ]
    }
   ],
   "source": [
    "import s6\n",
    "\n",
    "def inc(x):\n",
    "    return x + 1\n",
    "\n",
    "@s6.jit\n",
    "def compute(): \n",
    "    x = 0\n",
    "    while x != 50000:\n",
    "        x = inc(x)\n",
    "    return x\n",
    "          \n",
    "print(compute(), s6.inspect(compute).is_compiled, s6.inspect(inc).is_compiled)"
   ]
  },
  {
   "cell_type": "markdown",
   "id": "5cca706a-f5b1-413e-94a0-1bd39799ebba",
   "metadata": {
    "id": "5cca706a-f5b1-413e-94a0-1bd39799ebba"
   },
   "source": [
    "In the example above, only the `compute` function is annotated with `s6.jit`. However, this function calls `inc` many times, triggering S6 to optimize it, even though `compute` isn't optimized yet. This is because S6 doesn't compile all functions in the call stack immediately. A function is compiled based on 2 considerations: \n",
    "\n",
    "* how many byte code instructions S6 has gone through (specifically the `Oracle` in the implementation)\n",
    "* whether this function is hot\n",
    "\n",
    "S6 is setup to only consider compilation after seeing 10,000 byte code instructions. After processing this number of instructions, S6 determines if the function is hot. A function is hot if we have stopped in the function at least twice. This makes it so we don't optimize a function the code rarely calls, or is super short and thus won't see much of a speed up. So in the best case scenario we will compile a function after seeing 20,000 byte code instructions and stopping in the same function twice. \n",
    "\n",
    "The following loop should be enough to optimize `compute` as well."
   ]
  },
  {
   "cell_type": "code",
   "execution_count": 2,
   "id": "7a420db8-656c-4892-8e67-12608090ca68",
   "metadata": {
    "id": "7a420db8-656c-4892-8e67-12608090ca68",
    "outputId": "1c423759-db4f-40ab-afc0-f46594c4a02b"
   },
   "outputs": [
    {
     "name": "stdout",
     "output_type": "stream",
     "text": [
      "True True\n"
     ]
    }
   ],
   "source": [
    "for _ in range(100):\n",
    "    compute()\n",
    "print(s6.inspect(compute).is_compiled, s6.inspect(inc).is_compiled)"
   ]
  },
  {
   "cell_type": "markdown",
   "id": "a3acbe47-b223-4e0d-879d-6b64b115de25",
   "metadata": {
    "id": "a3acbe47-b223-4e0d-879d-6b64b115de25"
   },
   "source": [
    "The strongjit for both functions is below."
   ]
  },
  {
   "cell_type": "code",
   "execution_count": 3,
   "id": "c7779180-ac4f-4ef6-83fa-a3b1fae0dd58",
   "metadata": {
    "id": "c7779180-ac4f-4ef6-83fa-a3b1fae0dd58",
    "outputId": "40bf71e3-47a5-4315-e97c-8ac43646e151"
   },
   "outputs": [
    {
     "name": "stdout",
     "output_type": "stream",
     "text": [
      "type_feedback @10 monomorphic, int#9\n",
      "type_feedback @12 monomorphic, bool#11\n",
      "type_feedback @14 monomorphic, globals(__main__)#5870\n",
      "type_feedback @18 monomorphic, function#401\n",
      "\n",
      "function compute {\n",
      "&0:                                                         // entry point\n",
      "  %1 = constant $0\n",
      "  bytecode_begin @0 fastlocals [%1]                         // LOAD_CONST 580800589.py:8\n",
      "  %3 = frame_variable consts, $1\n",
      "  incref notnull %3\n",
      "  jmp &6 [ %3 ]\n",
      "\n",
      "&6: [ %7 ]                                                  // preds: &0, &37\n",
      "  bytecode_begin @6 fastlocals [%7] {kLoop @26 $0}          // LOAD_FAST 580800589.py:9\n",
      "  %9 = frame_variable consts, $2\n",
      "  %10 = unbox long %7\n",
      "  %11 = overflowed? %10\n",
      "  deoptimize_if_safepoint %11, @10 stack [%7, %9] fastlocals [%7] increfs [%7, %9] {kLoop @26 $0}, \"Value was not unboxable\" // COMPARE_OP 580800589.py:9\n",
      "  %13 = constant $50000\n",
      "  %14 = cmp ne i64 %10, %13\n",
      "  advance_profile_counter $7\n",
      "  br %14, &17, &33\n",
      "\n",
      "&17:                                                        // preds: &6\n",
      "  bytecode_begin @14 fastlocals [%7] {kLoop @26 $0}         // LOAD_GLOBAL 580800589.py:10\n",
      "  %19 = frame_variable globals, $0\n",
      "  %20 = get_instance_class_id %19\n",
      "  %21 = constant $5870\n",
      "  %22 = cmp ne i64 %20, %21\n",
      "  deoptimize_if_safepoint %22, @14 fastlocals [%7] {kLoop @26 $0}, \"Globals dict has been modified\" // LOAD_GLOBAL 580800589.py:10\n",
      "  %24 = constant_attribute \"inc\" of globals(__main__)#5870\n",
      "  %25 = deoptimized_asynchronously?\n",
      "  deoptimize_if_safepoint %25, @14 fastlocals [%7] {kLoop @26 $0}, \"Assumptions were made about class behavior that were invalidated asynchronously\" // LOAD_GLOBAL 580800589.py:10\n",
      "  incref notnull %24\n",
      "  incref notnull %7\n",
      "  %29 = call_python fast %24 (%7) @18                       // CALL_FUNCTION 580800589.py:10\n",
      "  %30 = constant $0\n",
      "  %31 = cmp eq i64 %29, %30\n",
      "  deoptimize_if %31, &42, &37, materializing values [%7]\n",
      "\n",
      "&33:                                                        // preds: &6\n",
      "  bytecode_begin @24 fastlocals [%7] {kLoop @26 $0}         // POP_BLOCK 580800589.py:10\n",
      "  advance_profile_counter $3\n",
      "  return %7\n",
      "\n",
      "&37:                                                        // preds: &17\n",
      "  bytecode_begin @20 stack [%29] fastlocals [%7] {kLoop @26 $0} // STORE_FAST 580800589.py:10\n",
      "  decref notnull %7 @20                                     // STORE_FAST 580800589.py:10\n",
      "  advance_profile_counter $5\n",
      "  jmp &6 [ %29 ]\n",
      "\n",
      "&42: deoptimized                                            // preds: &17\n",
      "  decref notnull %7 @18                                     // CALL_FUNCTION 580800589.py:10\n",
      "  except @18                                                // CALL_FUNCTION 580800589.py:10\n",
      "}\n"
     ]
    }
   ],
   "source": [
    "print(s6.inspect(compute).strongjit)"
   ]
  },
  {
   "cell_type": "markdown",
   "id": "b09f4c17-1790-4baa-bd26-ef00e15c4ec5",
   "metadata": {
    "id": "b09f4c17-1790-4baa-bd26-ef00e15c4ec5"
   },
   "source": [
    "Here's some code worth noting:\n",
    "\n",
    "```\n",
    "%19 = frame_variable globals, $0\n",
    "%20 = get_instance_class_id %19\n",
    "...\n",
    "%24 = constant_attribute \"inc\" of globals(__main__)#5870\n",
    "...\n",
    "%29 = call_python fast %24 (%7) @18                       // CALL_FUNCTION 580800589.py:10\n",
    "```\n",
    "\n",
    "First, we've realised that the globals we're bound with have class-like semantics so we can do a class check on them (with `%19 = ...` and `%20 = ...`). Then, in `%24 = ...`, we know that the attribute `\"inc\"` is constant, and therefore S6 can use a fast jump to generated code, if it already exists, rather than going via the `EvalFrame` dispatch loop. This call happens in `%29 = ...`. Notice that it's calling `%24`, which is a `constant_attribute`, so we know the call target! The `fast` flag tells S6 it can use the fastest calling convention.\n",
    "\n",
    "Something else to note is the deoptimized block:\n",
    "```\n",
    "&42: deoptimized                                            // preds: &17\n",
    "  decref notnull %7 @18                                     // CALL_FUNCTION 4045191662.py:10\n",
    "  except @18                                                // CALL_FUNCTION 4045191662.py:10\n",
    "}\n",
    "```\n",
    "which is code that S6 didn't generate code for. It's accessible by a branch-like instruction `deoptimize_if`. If we hit the `true` branch we must jump out to the strongjit interpreter and interpret the deoptimized blocks until we get to a safepoint."
   ]
  },
  {
   "cell_type": "code",
   "execution_count": 4,
   "id": "38120b19-d607-417a-8f01-d04875c825e0",
   "metadata": {
    "id": "38120b19-d607-417a-8f01-d04875c825e0",
    "outputId": "294cd9d4-14de-4907-db51-c528e5dd3b71"
   },
   "outputs": [
    {
     "name": "stdout",
     "output_type": "stream",
     "text": [
      "type_feedback @4 monomorphic, int#9\n",
      "\n",
      "function inc {\n",
      "&0: [ %1 ]                                                  // entry point\n",
      "  bytecode_begin @0 fastlocals [%1]                         // LOAD_FAST 580800589.py:4\n",
      "  %3 = frame_variable consts, $1\n",
      "  %4 = unbox long %1\n",
      "  %5 = overflowed? %4\n",
      "  deoptimize_if_safepoint %5, @4 stack [%1, %3] fastlocals [%1] increfs [%3, %1], \"Value was not unboxable\" // BINARY_ADD 580800589.py:4\n",
      "  %7 = constant $1\n",
      "  %8 = add i64 %4, %7\n",
      "  %9 = overflowed? %8\n",
      "  deoptimize_if_safepoint %9, @4 stack [%1, %3] fastlocals [%1] increfs [%3, %1], \"Value was not unboxable\" // BINARY_ADD 580800589.py:4\n",
      "  %11 = box long %8\n",
      "  advance_profile_counter $4\n",
      "  decref notnull %1 @6                                      // RETURN_VALUE 580800589.py:4\n",
      "  return %11\n",
      "}\n"
     ]
    }
   ],
   "source": [
    "print(s6.inspect(inc).strongjit)"
   ]
  }
 ],
 "metadata": {
  "colab": {
   "collapsed_sections": [],
   "name": "function_calls.ipynb",
   "provenance": []
  },
  "kernelspec": {
   "display_name": "Python 3 (ipykernel)",
   "language": "python",
   "name": "python3"
  },
  "language_info": {
   "codemirror_mode": {
    "name": "ipython",
    "version": 3
   },
   "file_extension": ".py",
   "mimetype": "text/x-python",
   "name": "python",
   "nbconvert_exporter": "python",
   "pygments_lexer": "ipython3",
   "version": "3.7.13+"
  }
 },
 "nbformat": 4,
 "nbformat_minor": 5
}
